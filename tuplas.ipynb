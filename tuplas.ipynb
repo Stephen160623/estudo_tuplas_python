{
 "cells": [
  {
   "cell_type": "markdown",
   "id": "2e60358e",
   "metadata": {},
   "source": [
    "# TUPLAS"
   ]
  },
  {
   "cell_type": "code",
   "execution_count": 2,
   "id": "b0163f9c",
   "metadata": {},
   "outputs": [
    {
     "name": "stdout",
     "output_type": "stream",
     "text": [
      "(1, 'a', 7.6)\n"
     ]
    }
   ],
   "source": [
    "# Criando uma tupla - alocando memória para uma tupla\n",
    "\n",
    "a= (1,'a',7.6)\n",
    "print(a)"
   ]
  },
  {
   "cell_type": "code",
   "execution_count": 8,
   "id": "8876c9ea",
   "metadata": {},
   "outputs": [
    {
     "name": "stdout",
     "output_type": "stream",
     "text": [
      "7.6\n"
     ]
    }
   ],
   "source": [
    "# Acessando uma tupla - acessando a memória alocada para a tupla\n",
    "\n",
    "print(a[2]) # Acessando o terceiro elemento da tupla"
   ]
  },
  {
   "cell_type": "code",
   "execution_count": 14,
   "id": "54e4f6c7",
   "metadata": {},
   "outputs": [
    {
     "ename": "TypeError",
     "evalue": "'str' object does not support item assignment",
     "output_type": "error",
     "traceback": [
      "\u001b[1;31m---------------------------------------------------------------------------\u001b[0m",
      "\u001b[1;31mTypeError\u001b[0m                                 Traceback (most recent call last)",
      "Cell \u001b[1;32mIn[14], line 3\u001b[0m\n\u001b[0;32m      1\u001b[0m \u001b[38;5;66;03m# Modificando um elemento de uma tupla\u001b[39;00m\n\u001b[1;32m----> 3\u001b[0m a[\u001b[38;5;241m2\u001b[39m] \u001b[38;5;241m=\u001b[39m \u001b[38;5;241m16\u001b[39m\n",
      "\u001b[1;31mTypeError\u001b[0m: 'str' object does not support item assignment"
     ]
    }
   ],
   "source": [
    "# Modificando um elemento de uma tupla\n",
    "\n",
    "a[2] = 16"
   ]
  },
  {
   "cell_type": "code",
   "execution_count": 16,
   "id": "a3e875c1",
   "metadata": {},
   "outputs": [],
   "source": [
    "# Modificando uma tupla 2\n",
    "\n",
    "a = (1, 'a', 16)"
   ]
  },
  {
   "cell_type": "code",
   "execution_count": 17,
   "id": "a6e212fa",
   "metadata": {},
   "outputs": [
    {
     "name": "stdout",
     "output_type": "stream",
     "text": [
      "(1, 'a', 16)\n"
     ]
    }
   ],
   "source": [
    "print(a)"
   ]
  }
 ],
 "metadata": {
  "kernelspec": {
   "display_name": "Python 3 (ipykernel)",
   "language": "python",
   "name": "python3"
  },
  "language_info": {
   "codemirror_mode": {
    "name": "ipython",
    "version": 3
   },
   "file_extension": ".py",
   "mimetype": "text/x-python",
   "name": "python",
   "nbconvert_exporter": "python",
   "pygments_lexer": "ipython3",
   "version": "3.10.9"
  }
 },
 "nbformat": 4,
 "nbformat_minor": 5
}
